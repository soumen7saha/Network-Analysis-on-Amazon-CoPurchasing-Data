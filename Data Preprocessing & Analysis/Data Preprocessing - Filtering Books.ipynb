{
 "cells": [
  {
   "cell_type": "code",
   "execution_count": 1,
   "id": "4a835482",
   "metadata": {},
   "outputs": [],
   "source": [
    "import pandas as pd\n",
    "import numpy as np"
   ]
  },
  {
   "cell_type": "code",
   "execution_count": 2,
   "id": "56629ccb",
   "metadata": {},
   "outputs": [],
   "source": [
    "pdf=pd.read_csv('products.csv')\n",
    "cdf=pd.read_csv('copurchase.csv')"
   ]
  },
  {
   "cell_type": "code",
   "execution_count": 3,
   "id": "d525b090",
   "metadata": {
    "scrolled": true
   },
   "outputs": [
    {
     "data": {
      "text/html": [
       "<div>\n",
       "<style scoped>\n",
       "    .dataframe tbody tr th:only-of-type {\n",
       "        vertical-align: middle;\n",
       "    }\n",
       "\n",
       "    .dataframe tbody tr th {\n",
       "        vertical-align: top;\n",
       "    }\n",
       "\n",
       "    .dataframe thead th {\n",
       "        text-align: right;\n",
       "    }\n",
       "</style>\n",
       "<table border=\"1\" class=\"dataframe\">\n",
       "  <thead>\n",
       "    <tr style=\"text-align: right;\">\n",
       "      <th></th>\n",
       "      <th>id</th>\n",
       "      <th>title</th>\n",
       "      <th>group</th>\n",
       "      <th>salesrank</th>\n",
       "      <th>review_cnt</th>\n",
       "      <th>downloads</th>\n",
       "      <th>rating</th>\n",
       "    </tr>\n",
       "  </thead>\n",
       "  <tbody>\n",
       "    <tr>\n",
       "      <th>0</th>\n",
       "      <td>1</td>\n",
       "      <td>Patterns of Preaching: A Sermon Sampler</td>\n",
       "      <td>Book</td>\n",
       "      <td>396585.0</td>\n",
       "      <td>2</td>\n",
       "      <td>2</td>\n",
       "      <td>5.0</td>\n",
       "    </tr>\n",
       "    <tr>\n",
       "      <th>1</th>\n",
       "      <td>2</td>\n",
       "      <td>Candlemas: Feast of Flames</td>\n",
       "      <td>Book</td>\n",
       "      <td>168596.0</td>\n",
       "      <td>12</td>\n",
       "      <td>12</td>\n",
       "      <td>4.5</td>\n",
       "    </tr>\n",
       "    <tr>\n",
       "      <th>2</th>\n",
       "      <td>3</td>\n",
       "      <td>World War II Allied Fighter Planes Trading Cards</td>\n",
       "      <td>Book</td>\n",
       "      <td>1270652.0</td>\n",
       "      <td>1</td>\n",
       "      <td>1</td>\n",
       "      <td>5.0</td>\n",
       "    </tr>\n",
       "    <tr>\n",
       "      <th>3</th>\n",
       "      <td>4</td>\n",
       "      <td>Life Application Bible Commentary: 1 and 2 Tim...</td>\n",
       "      <td>Book</td>\n",
       "      <td>631289.0</td>\n",
       "      <td>1</td>\n",
       "      <td>1</td>\n",
       "      <td>4.0</td>\n",
       "    </tr>\n",
       "    <tr>\n",
       "      <th>4</th>\n",
       "      <td>5</td>\n",
       "      <td>Prayers That Avail Much for Business: Executive</td>\n",
       "      <td>Book</td>\n",
       "      <td>455160.0</td>\n",
       "      <td>0</td>\n",
       "      <td>0</td>\n",
       "      <td>0.0</td>\n",
       "    </tr>\n",
       "    <tr>\n",
       "      <th>...</th>\n",
       "      <td>...</td>\n",
       "      <td>...</td>\n",
       "      <td>...</td>\n",
       "      <td>...</td>\n",
       "      <td>...</td>\n",
       "      <td>...</td>\n",
       "      <td>...</td>\n",
       "    </tr>\n",
       "    <tr>\n",
       "      <th>259162</th>\n",
       "      <td>262104</td>\n",
       "      <td>Satchel Paige</td>\n",
       "      <td>Book</td>\n",
       "      <td>36449.0</td>\n",
       "      <td>3</td>\n",
       "      <td>3</td>\n",
       "      <td>4.5</td>\n",
       "    </tr>\n",
       "    <tr>\n",
       "      <th>259163</th>\n",
       "      <td>262106</td>\n",
       "      <td>Japanese for Busy People: English Teacher's Ma...</td>\n",
       "      <td>Book</td>\n",
       "      <td>588715.0</td>\n",
       "      <td>0</td>\n",
       "      <td>0</td>\n",
       "      <td>0.0</td>\n",
       "    </tr>\n",
       "    <tr>\n",
       "      <th>259164</th>\n",
       "      <td>262107</td>\n",
       "      <td>Halloween II</td>\n",
       "      <td>DVD</td>\n",
       "      <td>31245.0</td>\n",
       "      <td>320</td>\n",
       "      <td>320</td>\n",
       "      <td>4.0</td>\n",
       "    </tr>\n",
       "    <tr>\n",
       "      <th>259165</th>\n",
       "      <td>262108</td>\n",
       "      <td>Book Of Vision Quest</td>\n",
       "      <td>Book</td>\n",
       "      <td>255390.0</td>\n",
       "      <td>4</td>\n",
       "      <td>4</td>\n",
       "      <td>4.0</td>\n",
       "    </tr>\n",
       "    <tr>\n",
       "      <th>259166</th>\n",
       "      <td>262109</td>\n",
       "      <td>Favorite Russian Fairy Tales (Dover Children's...</td>\n",
       "      <td>Book</td>\n",
       "      <td>250544.0</td>\n",
       "      <td>2</td>\n",
       "      <td>2</td>\n",
       "      <td>5.0</td>\n",
       "    </tr>\n",
       "  </tbody>\n",
       "</table>\n",
       "<p>259167 rows × 7 columns</p>\n",
       "</div>"
      ],
      "text/plain": [
       "            id                                              title group  \\\n",
       "0            1            Patterns of Preaching: A Sermon Sampler  Book   \n",
       "1            2                         Candlemas: Feast of Flames  Book   \n",
       "2            3   World War II Allied Fighter Planes Trading Cards  Book   \n",
       "3            4  Life Application Bible Commentary: 1 and 2 Tim...  Book   \n",
       "4            5    Prayers That Avail Much for Business: Executive  Book   \n",
       "...        ...                                                ...   ...   \n",
       "259162  262104                                      Satchel Paige  Book   \n",
       "259163  262106  Japanese for Busy People: English Teacher's Ma...  Book   \n",
       "259164  262107                                       Halloween II   DVD   \n",
       "259165  262108                               Book Of Vision Quest  Book   \n",
       "259166  262109  Favorite Russian Fairy Tales (Dover Children's...  Book   \n",
       "\n",
       "        salesrank  review_cnt  downloads  rating  \n",
       "0        396585.0           2          2     5.0  \n",
       "1        168596.0          12         12     4.5  \n",
       "2       1270652.0           1          1     5.0  \n",
       "3        631289.0           1          1     4.0  \n",
       "4        455160.0           0          0     0.0  \n",
       "...           ...         ...        ...     ...  \n",
       "259162    36449.0           3          3     4.5  \n",
       "259163   588715.0           0          0     0.0  \n",
       "259164    31245.0         320        320     4.0  \n",
       "259165   255390.0           4          4     4.0  \n",
       "259166   250544.0           2          2     5.0  \n",
       "\n",
       "[259167 rows x 7 columns]"
      ]
     },
     "execution_count": 3,
     "metadata": {},
     "output_type": "execute_result"
    }
   ],
   "source": [
    "pdf"
   ]
  },
  {
   "cell_type": "code",
   "execution_count": 4,
   "id": "bb589c7d",
   "metadata": {
    "scrolled": true
   },
   "outputs": [
    {
     "name": "stdout",
     "output_type": "stream",
     "text": [
      "<class 'pandas.core.frame.DataFrame'>\n",
      "RangeIndex: 259167 entries, 0 to 259166\n",
      "Data columns (total 7 columns):\n",
      " #   Column      Non-Null Count   Dtype  \n",
      "---  ------      --------------   -----  \n",
      " 0   id          259167 non-null  int64  \n",
      " 1   title       259167 non-null  object \n",
      " 2   group       259167 non-null  object \n",
      " 3   salesrank   259167 non-null  float64\n",
      " 4   review_cnt  259167 non-null  int64  \n",
      " 5   downloads   259167 non-null  int64  \n",
      " 6   rating      259167 non-null  float64\n",
      "dtypes: float64(2), int64(3), object(2)\n",
      "memory usage: 13.8+ MB\n"
     ]
    }
   ],
   "source": [
    "pdf.info()"
   ]
  },
  {
   "cell_type": "code",
   "execution_count": 5,
   "id": "21d240b4",
   "metadata": {},
   "outputs": [
    {
     "data": {
      "text/html": [
       "<div>\n",
       "<style scoped>\n",
       "    .dataframe tbody tr th:only-of-type {\n",
       "        vertical-align: middle;\n",
       "    }\n",
       "\n",
       "    .dataframe tbody tr th {\n",
       "        vertical-align: top;\n",
       "    }\n",
       "\n",
       "    .dataframe thead th {\n",
       "        text-align: right;\n",
       "    }\n",
       "</style>\n",
       "<table border=\"1\" class=\"dataframe\">\n",
       "  <thead>\n",
       "    <tr style=\"text-align: right;\">\n",
       "      <th></th>\n",
       "      <th>id</th>\n",
       "      <th>salesrank</th>\n",
       "      <th>review_cnt</th>\n",
       "      <th>downloads</th>\n",
       "      <th>rating</th>\n",
       "    </tr>\n",
       "  </thead>\n",
       "  <tbody>\n",
       "    <tr>\n",
       "      <th>count</th>\n",
       "      <td>259167.000000</td>\n",
       "      <td>2.591670e+05</td>\n",
       "      <td>259167.000000</td>\n",
       "      <td>259167.000000</td>\n",
       "      <td>259167.000000</td>\n",
       "    </tr>\n",
       "    <tr>\n",
       "      <th>mean</th>\n",
       "      <td>131018.343813</td>\n",
       "      <td>4.955061e+05</td>\n",
       "      <td>14.000895</td>\n",
       "      <td>13.750589</td>\n",
       "      <td>3.158454</td>\n",
       "    </tr>\n",
       "    <tr>\n",
       "      <th>std</th>\n",
       "      <td>75663.758316</td>\n",
       "      <td>5.750585e+05</td>\n",
       "      <td>72.878967</td>\n",
       "      <td>69.013924</td>\n",
       "      <td>2.019447</td>\n",
       "    </tr>\n",
       "    <tr>\n",
       "      <th>min</th>\n",
       "      <td>1.000000</td>\n",
       "      <td>-1.000000e+00</td>\n",
       "      <td>0.000000</td>\n",
       "      <td>0.000000</td>\n",
       "      <td>0.000000</td>\n",
       "    </tr>\n",
       "    <tr>\n",
       "      <th>25%</th>\n",
       "      <td>65489.500000</td>\n",
       "      <td>9.191100e+04</td>\n",
       "      <td>0.000000</td>\n",
       "      <td>0.000000</td>\n",
       "      <td>0.000000</td>\n",
       "    </tr>\n",
       "    <tr>\n",
       "      <th>50%</th>\n",
       "      <td>131007.000000</td>\n",
       "      <td>3.031550e+05</td>\n",
       "      <td>2.000000</td>\n",
       "      <td>2.000000</td>\n",
       "      <td>4.000000</td>\n",
       "    </tr>\n",
       "    <tr>\n",
       "      <th>75%</th>\n",
       "      <td>196511.500000</td>\n",
       "      <td>6.778710e+05</td>\n",
       "      <td>8.000000</td>\n",
       "      <td>7.000000</td>\n",
       "      <td>5.000000</td>\n",
       "    </tr>\n",
       "    <tr>\n",
       "      <th>max</th>\n",
       "      <td>262109.000000</td>\n",
       "      <td>3.793303e+06</td>\n",
       "      <td>5545.000000</td>\n",
       "      <td>4995.000000</td>\n",
       "      <td>5.000000</td>\n",
       "    </tr>\n",
       "  </tbody>\n",
       "</table>\n",
       "</div>"
      ],
      "text/plain": [
       "                  id     salesrank     review_cnt      downloads  \\\n",
       "count  259167.000000  2.591670e+05  259167.000000  259167.000000   \n",
       "mean   131018.343813  4.955061e+05      14.000895      13.750589   \n",
       "std     75663.758316  5.750585e+05      72.878967      69.013924   \n",
       "min         1.000000 -1.000000e+00       0.000000       0.000000   \n",
       "25%     65489.500000  9.191100e+04       0.000000       0.000000   \n",
       "50%    131007.000000  3.031550e+05       2.000000       2.000000   \n",
       "75%    196511.500000  6.778710e+05       8.000000       7.000000   \n",
       "max    262109.000000  3.793303e+06    5545.000000    4995.000000   \n",
       "\n",
       "              rating  \n",
       "count  259167.000000  \n",
       "mean        3.158454  \n",
       "std         2.019447  \n",
       "min         0.000000  \n",
       "25%         0.000000  \n",
       "50%         4.000000  \n",
       "75%         5.000000  \n",
       "max         5.000000  "
      ]
     },
     "execution_count": 5,
     "metadata": {},
     "output_type": "execute_result"
    }
   ],
   "source": [
    "pdf.describe()"
   ]
  },
  {
   "cell_type": "code",
   "execution_count": 6,
   "id": "bfff829c",
   "metadata": {},
   "outputs": [
    {
     "data": {
      "text/plain": [
       "array(['Book', 'Music', 'DVD', 'Video', 'Toy', 'Video Games', 'Software',\n",
       "       'Baby Product', 'CE'], dtype=object)"
      ]
     },
     "execution_count": 6,
     "metadata": {},
     "output_type": "execute_result"
    }
   ],
   "source": [
    "pdf['group'].unique()"
   ]
  },
  {
   "cell_type": "code",
   "execution_count": 7,
   "id": "e3503ac4",
   "metadata": {},
   "outputs": [],
   "source": [
    "new_pdf=pdf[pdf['group']=='Book']"
   ]
  },
  {
   "cell_type": "code",
   "execution_count": 8,
   "id": "a931ac9c",
   "metadata": {
    "scrolled": true
   },
   "outputs": [
    {
     "data": {
      "text/html": [
       "<div>\n",
       "<style scoped>\n",
       "    .dataframe tbody tr th:only-of-type {\n",
       "        vertical-align: middle;\n",
       "    }\n",
       "\n",
       "    .dataframe tbody tr th {\n",
       "        vertical-align: top;\n",
       "    }\n",
       "\n",
       "    .dataframe thead th {\n",
       "        text-align: right;\n",
       "    }\n",
       "</style>\n",
       "<table border=\"1\" class=\"dataframe\">\n",
       "  <thead>\n",
       "    <tr style=\"text-align: right;\">\n",
       "      <th></th>\n",
       "      <th>id</th>\n",
       "      <th>title</th>\n",
       "      <th>group</th>\n",
       "      <th>salesrank</th>\n",
       "      <th>review_cnt</th>\n",
       "      <th>downloads</th>\n",
       "      <th>rating</th>\n",
       "    </tr>\n",
       "  </thead>\n",
       "  <tbody>\n",
       "    <tr>\n",
       "      <th>0</th>\n",
       "      <td>1</td>\n",
       "      <td>Patterns of Preaching: A Sermon Sampler</td>\n",
       "      <td>Book</td>\n",
       "      <td>396585.0</td>\n",
       "      <td>2</td>\n",
       "      <td>2</td>\n",
       "      <td>5.0</td>\n",
       "    </tr>\n",
       "    <tr>\n",
       "      <th>1</th>\n",
       "      <td>2</td>\n",
       "      <td>Candlemas: Feast of Flames</td>\n",
       "      <td>Book</td>\n",
       "      <td>168596.0</td>\n",
       "      <td>12</td>\n",
       "      <td>12</td>\n",
       "      <td>4.5</td>\n",
       "    </tr>\n",
       "    <tr>\n",
       "      <th>2</th>\n",
       "      <td>3</td>\n",
       "      <td>World War II Allied Fighter Planes Trading Cards</td>\n",
       "      <td>Book</td>\n",
       "      <td>1270652.0</td>\n",
       "      <td>1</td>\n",
       "      <td>1</td>\n",
       "      <td>5.0</td>\n",
       "    </tr>\n",
       "    <tr>\n",
       "      <th>3</th>\n",
       "      <td>4</td>\n",
       "      <td>Life Application Bible Commentary: 1 and 2 Tim...</td>\n",
       "      <td>Book</td>\n",
       "      <td>631289.0</td>\n",
       "      <td>1</td>\n",
       "      <td>1</td>\n",
       "      <td>4.0</td>\n",
       "    </tr>\n",
       "    <tr>\n",
       "      <th>4</th>\n",
       "      <td>5</td>\n",
       "      <td>Prayers That Avail Much for Business: Executive</td>\n",
       "      <td>Book</td>\n",
       "      <td>455160.0</td>\n",
       "      <td>0</td>\n",
       "      <td>0</td>\n",
       "      <td>0.0</td>\n",
       "    </tr>\n",
       "    <tr>\n",
       "      <th>...</th>\n",
       "      <td>...</td>\n",
       "      <td>...</td>\n",
       "      <td>...</td>\n",
       "      <td>...</td>\n",
       "      <td>...</td>\n",
       "      <td>...</td>\n",
       "      <td>...</td>\n",
       "    </tr>\n",
       "    <tr>\n",
       "      <th>259160</th>\n",
       "      <td>262102</td>\n",
       "      <td>The Everything Homebuying Book: From Open Hous...</td>\n",
       "      <td>Book</td>\n",
       "      <td>664919.0</td>\n",
       "      <td>3</td>\n",
       "      <td>3</td>\n",
       "      <td>4.5</td>\n",
       "    </tr>\n",
       "    <tr>\n",
       "      <th>259162</th>\n",
       "      <td>262104</td>\n",
       "      <td>Satchel Paige</td>\n",
       "      <td>Book</td>\n",
       "      <td>36449.0</td>\n",
       "      <td>3</td>\n",
       "      <td>3</td>\n",
       "      <td>4.5</td>\n",
       "    </tr>\n",
       "    <tr>\n",
       "      <th>259163</th>\n",
       "      <td>262106</td>\n",
       "      <td>Japanese for Busy People: English Teacher's Ma...</td>\n",
       "      <td>Book</td>\n",
       "      <td>588715.0</td>\n",
       "      <td>0</td>\n",
       "      <td>0</td>\n",
       "      <td>0.0</td>\n",
       "    </tr>\n",
       "    <tr>\n",
       "      <th>259165</th>\n",
       "      <td>262108</td>\n",
       "      <td>Book Of Vision Quest</td>\n",
       "      <td>Book</td>\n",
       "      <td>255390.0</td>\n",
       "      <td>4</td>\n",
       "      <td>4</td>\n",
       "      <td>4.0</td>\n",
       "    </tr>\n",
       "    <tr>\n",
       "      <th>259166</th>\n",
       "      <td>262109</td>\n",
       "      <td>Favorite Russian Fairy Tales (Dover Children's...</td>\n",
       "      <td>Book</td>\n",
       "      <td>250544.0</td>\n",
       "      <td>2</td>\n",
       "      <td>2</td>\n",
       "      <td>5.0</td>\n",
       "    </tr>\n",
       "  </tbody>\n",
       "</table>\n",
       "<p>188013 rows × 7 columns</p>\n",
       "</div>"
      ],
      "text/plain": [
       "            id                                              title group  \\\n",
       "0            1            Patterns of Preaching: A Sermon Sampler  Book   \n",
       "1            2                         Candlemas: Feast of Flames  Book   \n",
       "2            3   World War II Allied Fighter Planes Trading Cards  Book   \n",
       "3            4  Life Application Bible Commentary: 1 and 2 Tim...  Book   \n",
       "4            5    Prayers That Avail Much for Business: Executive  Book   \n",
       "...        ...                                                ...   ...   \n",
       "259160  262102  The Everything Homebuying Book: From Open Hous...  Book   \n",
       "259162  262104                                      Satchel Paige  Book   \n",
       "259163  262106  Japanese for Busy People: English Teacher's Ma...  Book   \n",
       "259165  262108                               Book Of Vision Quest  Book   \n",
       "259166  262109  Favorite Russian Fairy Tales (Dover Children's...  Book   \n",
       "\n",
       "        salesrank  review_cnt  downloads  rating  \n",
       "0        396585.0           2          2     5.0  \n",
       "1        168596.0          12         12     4.5  \n",
       "2       1270652.0           1          1     5.0  \n",
       "3        631289.0           1          1     4.0  \n",
       "4        455160.0           0          0     0.0  \n",
       "...           ...         ...        ...     ...  \n",
       "259160   664919.0           3          3     4.5  \n",
       "259162    36449.0           3          3     4.5  \n",
       "259163   588715.0           0          0     0.0  \n",
       "259165   255390.0           4          4     4.0  \n",
       "259166   250544.0           2          2     5.0  \n",
       "\n",
       "[188013 rows x 7 columns]"
      ]
     },
     "execution_count": 8,
     "metadata": {},
     "output_type": "execute_result"
    }
   ],
   "source": [
    "new_pdf"
   ]
  },
  {
   "cell_type": "code",
   "execution_count": 9,
   "id": "bb33d9dc",
   "metadata": {},
   "outputs": [
    {
     "data": {
      "text/plain": [
       "array(['Book'], dtype=object)"
      ]
     },
     "execution_count": 9,
     "metadata": {},
     "output_type": "execute_result"
    }
   ],
   "source": [
    "new_pdf.group.unique()"
   ]
  },
  {
   "cell_type": "code",
   "execution_count": 10,
   "id": "ae8c3066",
   "metadata": {},
   "outputs": [
    {
     "data": {
      "text/plain": [
       "array([     1,      2,      3, ..., 262106, 262108, 262109])"
      ]
     },
     "execution_count": 10,
     "metadata": {},
     "output_type": "execute_result"
    }
   ],
   "source": [
    "book_ids=pdf[pdf['group']=='Book']['id'].to_numpy()\n",
    "book_ids"
   ]
  },
  {
   "cell_type": "code",
   "execution_count": 11,
   "id": "2a3095fd",
   "metadata": {
    "scrolled": true
   },
   "outputs": [
    {
     "data": {
      "text/plain": [
       "array([     7,     14,     18, ..., 262101, 262103, 262107])"
      ]
     },
     "execution_count": 11,
     "metadata": {},
     "output_type": "execute_result"
    }
   ],
   "source": [
    "non_book_ids=pdf[pdf['group']!='Book']['id'].to_numpy()\n",
    "non_book_ids"
   ]
  },
  {
   "cell_type": "code",
   "execution_count": 12,
   "id": "c0808635",
   "metadata": {
    "scrolled": true
   },
   "outputs": [
    {
     "data": {
      "text/plain": [
       "188013"
      ]
     },
     "execution_count": 12,
     "metadata": {},
     "output_type": "execute_result"
    }
   ],
   "source": [
    "len(new_pdf)"
   ]
  },
  {
   "cell_type": "code",
   "execution_count": 13,
   "id": "07c3549d",
   "metadata": {},
   "outputs": [
    {
     "data": {
      "text/plain": [
       "259167"
      ]
     },
     "execution_count": 13,
     "metadata": {},
     "output_type": "execute_result"
    }
   ],
   "source": [
    "len(pdf)"
   ]
  },
  {
   "cell_type": "code",
   "execution_count": 14,
   "id": "bd4b5acc",
   "metadata": {
    "scrolled": false
   },
   "outputs": [
    {
     "data": {
      "text/html": [
       "<div>\n",
       "<style scoped>\n",
       "    .dataframe tbody tr th:only-of-type {\n",
       "        vertical-align: middle;\n",
       "    }\n",
       "\n",
       "    .dataframe tbody tr th {\n",
       "        vertical-align: top;\n",
       "    }\n",
       "\n",
       "    .dataframe thead th {\n",
       "        text-align: right;\n",
       "    }\n",
       "</style>\n",
       "<table border=\"1\" class=\"dataframe\">\n",
       "  <thead>\n",
       "    <tr style=\"text-align: right;\">\n",
       "      <th></th>\n",
       "      <th>Source</th>\n",
       "      <th>Target</th>\n",
       "    </tr>\n",
       "  </thead>\n",
       "  <tbody>\n",
       "    <tr>\n",
       "      <th>0</th>\n",
       "      <td>1</td>\n",
       "      <td>2</td>\n",
       "    </tr>\n",
       "    <tr>\n",
       "      <th>1</th>\n",
       "      <td>1</td>\n",
       "      <td>4</td>\n",
       "    </tr>\n",
       "    <tr>\n",
       "      <th>2</th>\n",
       "      <td>1</td>\n",
       "      <td>5</td>\n",
       "    </tr>\n",
       "    <tr>\n",
       "      <th>3</th>\n",
       "      <td>1</td>\n",
       "      <td>15</td>\n",
       "    </tr>\n",
       "    <tr>\n",
       "      <th>4</th>\n",
       "      <td>2</td>\n",
       "      <td>11</td>\n",
       "    </tr>\n",
       "    <tr>\n",
       "      <th>...</th>\n",
       "      <td>...</td>\n",
       "      <td>...</td>\n",
       "    </tr>\n",
       "    <tr>\n",
       "      <th>1234865</th>\n",
       "      <td>262110</td>\n",
       "      <td>262099</td>\n",
       "    </tr>\n",
       "    <tr>\n",
       "      <th>1234866</th>\n",
       "      <td>262110</td>\n",
       "      <td>262100</td>\n",
       "    </tr>\n",
       "    <tr>\n",
       "      <th>1234867</th>\n",
       "      <td>262110</td>\n",
       "      <td>262101</td>\n",
       "    </tr>\n",
       "    <tr>\n",
       "      <th>1234868</th>\n",
       "      <td>262110</td>\n",
       "      <td>262106</td>\n",
       "    </tr>\n",
       "    <tr>\n",
       "      <th>1234869</th>\n",
       "      <td>262110</td>\n",
       "      <td>262107</td>\n",
       "    </tr>\n",
       "  </tbody>\n",
       "</table>\n",
       "<p>1234870 rows × 2 columns</p>\n",
       "</div>"
      ],
      "text/plain": [
       "         Source  Target\n",
       "0             1       2\n",
       "1             1       4\n",
       "2             1       5\n",
       "3             1      15\n",
       "4             2      11\n",
       "...         ...     ...\n",
       "1234865  262110  262099\n",
       "1234866  262110  262100\n",
       "1234867  262110  262101\n",
       "1234868  262110  262106\n",
       "1234869  262110  262107\n",
       "\n",
       "[1234870 rows x 2 columns]"
      ]
     },
     "execution_count": 14,
     "metadata": {},
     "output_type": "execute_result"
    }
   ],
   "source": [
    "cdf"
   ]
  },
  {
   "cell_type": "code",
   "execution_count": 15,
   "id": "cb18cb52",
   "metadata": {},
   "outputs": [
    {
     "data": {
      "text/plain": [
       "1234870"
      ]
     },
     "execution_count": 15,
     "metadata": {},
     "output_type": "execute_result"
    }
   ],
   "source": [
    "len(cdf)"
   ]
  },
  {
   "cell_type": "code",
   "execution_count": 16,
   "id": "a82d6cc3",
   "metadata": {},
   "outputs": [],
   "source": [
    "new_cdf=cdf[cdf.Source.isin(book_ids)]"
   ]
  },
  {
   "cell_type": "code",
   "execution_count": 17,
   "id": "90160d43",
   "metadata": {},
   "outputs": [],
   "source": [
    "new_cdf=new_cdf[new_cdf.Target.isin(book_ids)]"
   ]
  },
  {
   "cell_type": "code",
   "execution_count": 18,
   "id": "fe4b0be0",
   "metadata": {},
   "outputs": [
    {
     "data": {
      "text/html": [
       "<div>\n",
       "<style scoped>\n",
       "    .dataframe tbody tr th:only-of-type {\n",
       "        vertical-align: middle;\n",
       "    }\n",
       "\n",
       "    .dataframe tbody tr th {\n",
       "        vertical-align: top;\n",
       "    }\n",
       "\n",
       "    .dataframe thead th {\n",
       "        text-align: right;\n",
       "    }\n",
       "</style>\n",
       "<table border=\"1\" class=\"dataframe\">\n",
       "  <thead>\n",
       "    <tr style=\"text-align: right;\">\n",
       "      <th></th>\n",
       "      <th>Source</th>\n",
       "      <th>Target</th>\n",
       "    </tr>\n",
       "  </thead>\n",
       "  <tbody>\n",
       "    <tr>\n",
       "      <th>0</th>\n",
       "      <td>1</td>\n",
       "      <td>2</td>\n",
       "    </tr>\n",
       "    <tr>\n",
       "      <th>1</th>\n",
       "      <td>1</td>\n",
       "      <td>4</td>\n",
       "    </tr>\n",
       "    <tr>\n",
       "      <th>2</th>\n",
       "      <td>1</td>\n",
       "      <td>5</td>\n",
       "    </tr>\n",
       "    <tr>\n",
       "      <th>3</th>\n",
       "      <td>1</td>\n",
       "      <td>15</td>\n",
       "    </tr>\n",
       "    <tr>\n",
       "      <th>4</th>\n",
       "      <td>2</td>\n",
       "      <td>11</td>\n",
       "    </tr>\n",
       "    <tr>\n",
       "      <th>...</th>\n",
       "      <td>...</td>\n",
       "      <td>...</td>\n",
       "    </tr>\n",
       "    <tr>\n",
       "      <th>1234859</th>\n",
       "      <td>262108</td>\n",
       "      <td>262109</td>\n",
       "    </tr>\n",
       "    <tr>\n",
       "      <th>1234860</th>\n",
       "      <td>262109</td>\n",
       "      <td>262076</td>\n",
       "    </tr>\n",
       "    <tr>\n",
       "      <th>1234861</th>\n",
       "      <td>262109</td>\n",
       "      <td>262097</td>\n",
       "    </tr>\n",
       "    <tr>\n",
       "      <th>1234863</th>\n",
       "      <td>262109</td>\n",
       "      <td>262099</td>\n",
       "    </tr>\n",
       "    <tr>\n",
       "      <th>1234864</th>\n",
       "      <td>262109</td>\n",
       "      <td>262100</td>\n",
       "    </tr>\n",
       "  </tbody>\n",
       "</table>\n",
       "<p>637893 rows × 2 columns</p>\n",
       "</div>"
      ],
      "text/plain": [
       "         Source  Target\n",
       "0             1       2\n",
       "1             1       4\n",
       "2             1       5\n",
       "3             1      15\n",
       "4             2      11\n",
       "...         ...     ...\n",
       "1234859  262108  262109\n",
       "1234860  262109  262076\n",
       "1234861  262109  262097\n",
       "1234863  262109  262099\n",
       "1234864  262109  262100\n",
       "\n",
       "[637893 rows x 2 columns]"
      ]
     },
     "execution_count": 18,
     "metadata": {},
     "output_type": "execute_result"
    }
   ],
   "source": [
    "new_cdf"
   ]
  },
  {
   "cell_type": "code",
   "execution_count": 19,
   "id": "d3a1bc2e",
   "metadata": {},
   "outputs": [
    {
     "data": {
      "text/plain": [
       "637893"
      ]
     },
     "execution_count": 19,
     "metadata": {},
     "output_type": "execute_result"
    }
   ],
   "source": [
    "len(new_cdf)"
   ]
  },
  {
   "cell_type": "code",
   "execution_count": 21,
   "id": "5f4c3a84",
   "metadata": {},
   "outputs": [
    {
     "data": {
      "text/plain": [
       "array([ True])"
      ]
     },
     "execution_count": 21,
     "metadata": {},
     "output_type": "execute_result"
    }
   ],
   "source": [
    "new_cdf.Source.isin(book_ids).unique()"
   ]
  },
  {
   "cell_type": "code",
   "execution_count": 22,
   "id": "433409ed",
   "metadata": {},
   "outputs": [
    {
     "data": {
      "text/plain": [
       "array([ True])"
      ]
     },
     "execution_count": 22,
     "metadata": {},
     "output_type": "execute_result"
    }
   ],
   "source": [
    "new_cdf.Target.isin(book_ids).unique()"
   ]
  },
  {
   "cell_type": "code",
   "execution_count": 23,
   "id": "6e0b7a0d",
   "metadata": {},
   "outputs": [],
   "source": [
    "# All the edges and nodes are related with BOOK"
   ]
  },
  {
   "cell_type": "code",
   "execution_count": 25,
   "id": "e5950bef",
   "metadata": {},
   "outputs": [],
   "source": [
    "# producing book related datasets\n",
    "# new_pdf.to_csv('books_info.csv')\n",
    "# new_cdf.to_csv('books_copurchase.csv')"
   ]
  },
  {
   "cell_type": "code",
   "execution_count": 31,
   "id": "f3bc9bfa",
   "metadata": {},
   "outputs": [
    {
     "data": {
      "text/plain": [
       "188013"
      ]
     },
     "execution_count": 31,
     "metadata": {},
     "output_type": "execute_result"
    }
   ],
   "source": [
    "# no. of nodes\n",
    "len(new_pdf)"
   ]
  },
  {
   "cell_type": "code",
   "execution_count": 27,
   "id": "a4306056",
   "metadata": {},
   "outputs": [
    {
     "data": {
      "text/plain": [
       "637893"
      ]
     },
     "execution_count": 27,
     "metadata": {},
     "output_type": "execute_result"
    }
   ],
   "source": [
    "# no. of edges\n",
    "len(new_cdf)"
   ]
  },
  {
   "cell_type": "code",
   "execution_count": 65,
   "id": "0f039a8b",
   "metadata": {},
   "outputs": [
    {
     "data": {
      "text/html": [
       "<div>\n",
       "<style scoped>\n",
       "    .dataframe tbody tr th:only-of-type {\n",
       "        vertical-align: middle;\n",
       "    }\n",
       "\n",
       "    .dataframe tbody tr th {\n",
       "        vertical-align: top;\n",
       "    }\n",
       "\n",
       "    .dataframe thead th {\n",
       "        text-align: right;\n",
       "    }\n",
       "</style>\n",
       "<table border=\"1\" class=\"dataframe\">\n",
       "  <thead>\n",
       "    <tr style=\"text-align: right;\">\n",
       "      <th></th>\n",
       "      <th>id</th>\n",
       "      <th>in_degree</th>\n",
       "      <th>out_degree</th>\n",
       "      <th>all_degree</th>\n",
       "    </tr>\n",
       "  </thead>\n",
       "  <tbody>\n",
       "    <tr>\n",
       "      <th>10063</th>\n",
       "      <td>14949</td>\n",
       "      <td>309.0</td>\n",
       "      <td>3.0</td>\n",
       "      <td>312.0</td>\n",
       "    </tr>\n",
       "    <tr>\n",
       "      <th>3087</th>\n",
       "      <td>4429</td>\n",
       "      <td>278.0</td>\n",
       "      <td>3.0</td>\n",
       "      <td>281.0</td>\n",
       "    </tr>\n",
       "    <tr>\n",
       "      <th>25</th>\n",
       "      <td>33</td>\n",
       "      <td>262.0</td>\n",
       "      <td>4.0</td>\n",
       "      <td>266.0</td>\n",
       "    </tr>\n",
       "    <tr>\n",
       "      <th>8624</th>\n",
       "      <td>12771</td>\n",
       "      <td>240.0</td>\n",
       "      <td>3.0</td>\n",
       "      <td>243.0</td>\n",
       "    </tr>\n",
       "    <tr>\n",
       "      <th>4</th>\n",
       "      <td>8</td>\n",
       "      <td>201.0</td>\n",
       "      <td>3.0</td>\n",
       "      <td>204.0</td>\n",
       "    </tr>\n",
       "    <tr>\n",
       "      <th>...</th>\n",
       "      <td>...</td>\n",
       "      <td>...</td>\n",
       "      <td>...</td>\n",
       "      <td>...</td>\n",
       "    </tr>\n",
       "    <tr>\n",
       "      <th>179775</th>\n",
       "      <td>144940</td>\n",
       "      <td>0.0</td>\n",
       "      <td>1.0</td>\n",
       "      <td>1.0</td>\n",
       "    </tr>\n",
       "    <tr>\n",
       "      <th>154841</th>\n",
       "      <td>230770</td>\n",
       "      <td>1.0</td>\n",
       "      <td>0.0</td>\n",
       "      <td>1.0</td>\n",
       "    </tr>\n",
       "    <tr>\n",
       "      <th>111772</th>\n",
       "      <td>164783</td>\n",
       "      <td>1.0</td>\n",
       "      <td>0.0</td>\n",
       "      <td>1.0</td>\n",
       "    </tr>\n",
       "    <tr>\n",
       "      <th>12185</th>\n",
       "      <td>18013</td>\n",
       "      <td>1.0</td>\n",
       "      <td>0.0</td>\n",
       "      <td>1.0</td>\n",
       "    </tr>\n",
       "    <tr>\n",
       "      <th>145149</th>\n",
       "      <td>215939</td>\n",
       "      <td>1.0</td>\n",
       "      <td>0.0</td>\n",
       "      <td>1.0</td>\n",
       "    </tr>\n",
       "  </tbody>\n",
       "</table>\n",
       "<p>186147 rows × 4 columns</p>\n",
       "</div>"
      ],
      "text/plain": [
       "            id  in_degree  out_degree  all_degree\n",
       "10063    14949      309.0         3.0       312.0\n",
       "3087      4429      278.0         3.0       281.0\n",
       "25          33      262.0         4.0       266.0\n",
       "8624     12771      240.0         3.0       243.0\n",
       "4            8      201.0         3.0       204.0\n",
       "...        ...        ...         ...         ...\n",
       "179775  144940        0.0         1.0         1.0\n",
       "154841  230770        1.0         0.0         1.0\n",
       "111772  164783        1.0         0.0         1.0\n",
       "12185    18013        1.0         0.0         1.0\n",
       "145149  215939        1.0         0.0         1.0\n",
       "\n",
       "[186147 rows x 4 columns]"
      ]
     },
     "execution_count": 65,
     "metadata": {},
     "output_type": "execute_result"
    }
   ],
   "source": [
    "in_degree=pd.DataFrame(new_cdf.groupby(['Target'])['Source'].size()).reset_index()\n",
    "in_degree.columns=['id','in_degree']\n",
    "\n",
    "out_degree=pd.DataFrame(new_cdf.groupby(['Source'])['Target'].size()).reset_index()\n",
    "out_degree.columns=['id','out_degree']\n",
    "\n",
    "all_degree=pd.merge(in_degree,out_degree,on='id',how='outer')\n",
    "all_degree[np.isnan(all_degree)]=0\n",
    "\n",
    "all_degree['all_degree']=(all_degree.in_degree+all_degree.out_degree)\n",
    "\n",
    "all_degree=all_degree.sort_values('all_degree',ascending=False)\n",
    "\n",
    "all_degree"
   ]
  },
  {
   "cell_type": "code",
   "execution_count": 56,
   "id": "2c25474b",
   "metadata": {},
   "outputs": [
    {
     "data": {
      "text/plain": [
       "186147"
      ]
     },
     "execution_count": 56,
     "metadata": {},
     "output_type": "execute_result"
    }
   ],
   "source": [
    "# len(all_degree)"
   ]
  },
  {
   "cell_type": "code",
   "execution_count": 66,
   "id": "604bd549",
   "metadata": {},
   "outputs": [
    {
     "data": {
      "text/html": [
       "<div>\n",
       "<style scoped>\n",
       "    .dataframe tbody tr th:only-of-type {\n",
       "        vertical-align: middle;\n",
       "    }\n",
       "\n",
       "    .dataframe tbody tr th {\n",
       "        vertical-align: top;\n",
       "    }\n",
       "\n",
       "    .dataframe thead th {\n",
       "        text-align: right;\n",
       "    }\n",
       "</style>\n",
       "<table border=\"1\" class=\"dataframe\">\n",
       "  <thead>\n",
       "    <tr style=\"text-align: right;\">\n",
       "      <th></th>\n",
       "      <th>id</th>\n",
       "      <th>title</th>\n",
       "      <th>group</th>\n",
       "      <th>salesrank</th>\n",
       "      <th>review_cnt</th>\n",
       "      <th>downloads</th>\n",
       "      <th>rating</th>\n",
       "    </tr>\n",
       "  </thead>\n",
       "  <tbody>\n",
       "    <tr>\n",
       "      <th>14707</th>\n",
       "      <td>14849</td>\n",
       "      <td>McCoy Pottery: Reference &amp; Value Guide (McCoy ...</td>\n",
       "      <td>Book</td>\n",
       "      <td>159827.0</td>\n",
       "      <td>11</td>\n",
       "      <td>11</td>\n",
       "      <td>4.5</td>\n",
       "    </tr>\n",
       "  </tbody>\n",
       "</table>\n",
       "</div>"
      ],
      "text/plain": [
       "          id                                              title group  \\\n",
       "14707  14849  McCoy Pottery: Reference & Value Guide (McCoy ...  Book   \n",
       "\n",
       "       salesrank  review_cnt  downloads  rating  \n",
       "14707   159827.0          11         11     4.5  "
      ]
     },
     "execution_count": 66,
     "metadata": {},
     "output_type": "execute_result"
    }
   ],
   "source": [
    "# node with highest all_degree\n",
    "new_pdf[new_pdf['id']==14849]"
   ]
  },
  {
   "cell_type": "code",
   "execution_count": null,
   "id": "f9b70ed6",
   "metadata": {},
   "outputs": [],
   "source": []
  }
 ],
 "metadata": {
  "kernelspec": {
   "display_name": "Python 3 (ipykernel)",
   "language": "python",
   "name": "python3"
  },
  "language_info": {
   "codemirror_mode": {
    "name": "ipython",
    "version": 3
   },
   "file_extension": ".py",
   "mimetype": "text/x-python",
   "name": "python",
   "nbconvert_exporter": "python",
   "pygments_lexer": "ipython3",
   "version": "3.10.6"
  }
 },
 "nbformat": 4,
 "nbformat_minor": 5
}
